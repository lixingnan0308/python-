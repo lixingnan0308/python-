{
 "cells": [
  {
   "cell_type": "code",
   "execution_count": 1,
   "metadata": {},
   "outputs": [
    {
     "name": "stdout",
     "output_type": "stream",
     "text": [
      "迭代器结果: 0\n",
      "函数循环: 0\n",
      "迭代器结果: 2\n",
      "函数循环: 1\n",
      "迭代器结果: 4\n",
      "函数循环: 2\n",
      "迭代器结果: 6\n",
      "函数循环: 3\n",
      "迭代器结果: 8\n",
      "函数循环: 4\n",
      "end.\n"
     ]
    }
   ],
   "source": [
    "def yield_test(n):#生成器函数\n",
    "    for i in range(n):\n",
    "        yield change(i)\n",
    "        print(\"函数循环:\",i)\n",
    "    print(\"end.\")\n",
    "    \n",
    "def change(i):\n",
    "    return i*2\n",
    "for i in yield_test(5):\n",
    "    #yield返回值 然后执行迭代器结果，后在执行后返回到yield change的下一行\n",
    "    #yield后面语句执行完成后，才继续从yield函数的第一行继续执行。   \n",
    "    #yield可以看做return，但是return后面语句将不再执行，\n",
    "    #而yield在下一次执行时，会将yield后面语句先执行完成。\n",
    "    #具有延时的作用\n",
    "    print(\"迭代器结果:\",i)"
   ]
  },
  {
   "cell_type": "code",
   "execution_count": 2,
   "metadata": {},
   "outputs": [
    {
     "name": "stdout",
     "output_type": "stream",
     "text": [
      "asd\n",
      "1 cnm\n",
      "4 cnm\n",
      "9 cnm\n",
      "16 cnm\n",
      "25 cnm\n",
      "36 cnm\n",
      "49 cnm\n",
      "64 cnm\n",
      "81 cnm\n",
      "100 cnm\n"
     ]
    }
   ],
   "source": [
    "def squares(n=10):\n",
    "    print(\"asd\")\n",
    "    for i in range(1,n+1):\n",
    "        yield i**2\n",
    "        print('cnm')\n",
    "gen=squares()\n",
    "for i in gen:\n",
    "    print(i,end=' ')"
   ]
  },
  {
   "cell_type": "code",
   "execution_count": null,
   "metadata": {},
   "outputs": [],
   "source": []
  }
 ],
 "metadata": {
  "kernelspec": {
   "display_name": "Python 3",
   "language": "python",
   "name": "python3"
  },
  "language_info": {
   "codemirror_mode": {
    "name": "ipython",
    "version": 3
   },
   "file_extension": ".py",
   "mimetype": "text/x-python",
   "name": "python",
   "nbconvert_exporter": "python",
   "pygments_lexer": "ipython3",
   "version": "3.7.6"
  }
 },
 "nbformat": 4,
 "nbformat_minor": 4
}
