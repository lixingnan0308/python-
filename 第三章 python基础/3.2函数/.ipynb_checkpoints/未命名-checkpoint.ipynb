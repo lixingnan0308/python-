{
 "cells": [
  {
   "cell_type": "code",
   "execution_count": 32,
   "metadata": {},
   "outputs": [],
   "source": [
    "province=['!beijing?  ','?dalia*&^n! ','?sha^&ngha# ','!shenzhen#%  ']"
   ]
  },
  {
   "cell_type": "code",
   "execution_count": 33,
   "metadata": {},
   "outputs": [],
   "source": [
    "import re\n",
    "def clean_string(strings):\n",
    "    results=[]\n",
    "    for value in strings:\n",
    "        result=re.sub('\\W','',value,count=0)#\\W表示非字符 count=0表示所有都替换\n",
    "        result=result.strip()\n",
    "        result=result.title()\n",
    "        results.append(result)\n",
    "    return results\n",
    "    "
   ]
  },
  {
   "cell_type": "code",
   "execution_count": 34,
   "metadata": {},
   "outputs": [
    {
     "name": "stdout",
     "output_type": "stream",
     "text": [
      "['Beijing', 'Dalian', 'Shangha', 'Shenzhen']\n"
     ]
    }
   ],
   "source": [
    "print(clean_string(province))"
   ]
  },
  {
   "cell_type": "code",
   "execution_count": 23,
   "metadata": {},
   "outputs": [],
   "source": [
    "province=['!beijing?  ','?dalian! ','?shangha# ','!shenzhen#%  ']"
   ]
  },
  {
   "cell_type": "code",
   "execution_count": 25,
   "metadata": {},
   "outputs": [
    {
     "name": "stdout",
     "output_type": "stream",
     "text": [
      "!beijing?  \n",
      "?dalian! \n",
      "?shangha# \n",
      "!shenzhen#%  \n"
     ]
    }
   ],
   "source": [
    "for value in province:\n",
    "    result=re.sub('\\W','',value,count=0)\n",
    "    print(value)"
   ]
  },
  {
   "cell_type": "code",
   "execution_count": 35,
   "metadata": {},
   "outputs": [
    {
     "name": "stdout",
     "output_type": "stream",
     "text": [
      "ab\n",
      "ab\n",
      "ab\n",
      "ab\n"
     ]
    }
   ],
   "source": [
    "pattern=re.compile(r'ab+?')\n",
    "abc=['acd','cds','abcd','abb','abbb','abbbb']\n",
    "for value in abc:\n",
    "    index=pattern.search(value)#非贪婪模式\n",
    "    if index:\n",
    "        print(index.group(0))"
   ]
  },
  {
   "cell_type": "code",
   "execution_count": 5,
   "metadata": {},
   "outputs": [],
   "source": [
    "a='abc123abc234abc456acd567'"
   ]
  },
  {
   "cell_type": "code",
   "execution_count": 10,
   "metadata": {},
   "outputs": [
    {
     "name": "stdout",
     "output_type": "stream",
     "text": [
      "['123', '234']\n",
      "123\n",
      "234\n",
      "456\n",
      "567\n"
     ]
    }
   ],
   "source": [
    "import re\n",
    "p_findall=re.compile(r'\\d+')\n",
    "result=p_findall.findall(a,3,15)#全字符串查找找到返回列表 后面数字为其位数\n",
    "print(result)\n",
    "\n",
    "result_1=p_findall.finditer(a)#迭代器相当于分开储存在其中 用for语句打印出来\n",
    "for a in result_1:\n",
    "    print(a.group())"
   ]
  },
  {
   "cell_type": "code",
   "execution_count": 20,
   "metadata": {},
   "outputs": [
    {
     "name": "stdout",
     "output_type": "stream",
     "text": [
      "None\n"
     ]
    }
   ],
   "source": [
    "import re\n",
    "a='210204199903083537'\n",
    "res=re.search('(?P<province>\\d{3}),(?P<city>\\d{3})',a)\n",
    "print(res)"
   ]
  },
  {
   "cell_type": "code",
   "execution_count": 30,
   "metadata": {},
   "outputs": [
    {
     "name": "stdout",
     "output_type": "stream",
     "text": [
      "{'province': '21', 'city': '02'}\n"
     ]
    }
   ],
   "source": [
    "import re\n",
    "shen='210204199903083537'\n",
    "res=re.search('(?P<province>\\d{2})(?P<city>\\d{2})',shen)\n",
    "print(res.groupdict())"
   ]
  },
  {
   "cell_type": "code",
   "execution_count": null,
   "metadata": {},
   "outputs": [],
   "source": []
  }
 ],
 "metadata": {
  "kernelspec": {
   "display_name": "Python 3",
   "language": "python",
   "name": "python3"
  },
  "language_info": {
   "codemirror_mode": {
    "name": "ipython",
    "version": 3
   },
   "file_extension": ".py",
   "mimetype": "text/x-python",
   "name": "python",
   "nbconvert_exporter": "python",
   "pygments_lexer": "ipython3",
   "version": "3.8.2"
  }
 },
 "nbformat": 4,
 "nbformat_minor": 4
}
