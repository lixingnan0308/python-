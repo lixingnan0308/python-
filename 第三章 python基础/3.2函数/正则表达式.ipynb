{
 "cells": [
  {
   "cell_type": "code",
   "execution_count": 33,
   "metadata": {},
   "outputs": [],
   "source": [
    "import re\n"
   ]
  },
  {
   "cell_type": "code",
   "execution_count": 34,
   "metadata": {},
   "outputs": [
    {
     "name": "stdout",
     "output_type": "stream",
     "text": [
      "a\n",
      "ab\n",
      "abb\n",
      "abbb\n",
      "abbbb\n"
     ]
    }
   ],
   "source": [
    "abc=['acd','cds','abcd','abb','abbb','abbbb']\n",
    "for value in abc:\n",
    "    index=re.search('ab*',value,flags=0)#贪婪模式 search模式是在value中查找第一个符合的对象\n",
    "    if index:\n",
    "        print(index.group(0))#返回完整的字符串"
   ]
  },
  {
   "cell_type": "code",
   "execution_count": 35,
   "metadata": {},
   "outputs": [
    {
     "name": "stdout",
     "output_type": "stream",
     "text": [
      "a\n",
      "a\n",
      "a\n",
      "a\n",
      "a\n"
     ]
    }
   ],
   "source": [
    "abc=['acd','cds','abcd','abb','abbb','abbbb']\n",
    "for value in abc:\n",
    "    index=re.search('ab*?',value,flags=0)#非贪婪模式 因为为非贪婪模式所以遇到a即可放弃再往下\n",
    "    if index:\n",
    "        print(index.group(0))"
   ]
  },
  {
   "cell_type": "code",
   "execution_count": 36,
   "metadata": {},
   "outputs": [
    {
     "name": "stdout",
     "output_type": "stream",
     "text": [
      "ab\n",
      "abb\n",
      "abbb\n",
      "abbbb\n"
     ]
    }
   ],
   "source": [
    "abc=['acd','cds','abcd','abb','abbb','abbbb']\n",
    "for value in abc:\n",
    "    index=re.search('ab+',value,flags=0)#贪婪模式\n",
    "    if index:\n",
    "        print(index.group(0))"
   ]
  },
  {
   "cell_type": "code",
   "execution_count": 37,
   "metadata": {},
   "outputs": [
    {
     "name": "stdout",
     "output_type": "stream",
     "text": [
      "what\n"
     ]
    }
   ],
   "source": [
    "index=re.search('what','whatdd j whatbibwibuwb')#在整个字符串中匹配\n",
    "if index:\n",
    "    print(index.group(0))"
   ]
  },
  {
   "cell_type": "code",
   "execution_count": 38,
   "metadata": {},
   "outputs": [
    {
     "name": "stdout",
     "output_type": "stream",
     "text": [
      "<re.Match object; span=(0, 4), match='what'>\n"
     ]
    }
   ],
   "source": [
    "index=re.search('what','whatdd j whatbibwibuwb')\n",
    "if index:\n",
    "    print(index)"
   ]
  },
  {
   "cell_type": "code",
   "execution_count": null,
   "metadata": {},
   "outputs": [],
   "source": []
  },
  {
   "cell_type": "code",
   "execution_count": 39,
   "metadata": {},
   "outputs": [],
   "source": [
    "province=['!beijing?  ','?dalia*&^n! ','?sha^&ngha# ','!shenzhen#%  ']"
   ]
  },
  {
   "cell_type": "code",
   "execution_count": 40,
   "metadata": {},
   "outputs": [],
   "source": [
    "import re\n",
    "def clean_string(strings):#替换\n",
    "    results=[]\n",
    "    for value in strings:\n",
    "        result=re.sub('\\W','',value,count=0)\n",
    "        #\\W表示非字符 count=0表示所有都替换 result中存储着将特殊符号去除后的value值\n",
    "        result=result.strip()\n",
    "        result=result.title()\n",
    "        results.append(result)\n",
    "    return results\n",
    "    "
   ]
  },
  {
   "cell_type": "code",
   "execution_count": 41,
   "metadata": {},
   "outputs": [
    {
     "name": "stdout",
     "output_type": "stream",
     "text": [
      "['Beijing', 'Dalian', 'Shangha', 'Shenzhen']\n"
     ]
    }
   ],
   "source": [
    "print(clean_string(province))"
   ]
  },
  {
   "cell_type": "code",
   "execution_count": null,
   "metadata": {},
   "outputs": [],
   "source": []
  },
  {
   "cell_type": "code",
   "execution_count": 42,
   "metadata": {},
   "outputs": [
    {
     "name": "stdout",
     "output_type": "stream",
     "text": [
      "ab\n",
      "ab\n",
      "ab\n",
      "ab\n"
     ]
    }
   ],
   "source": [
    "pattern=re.compile(r'ab+?')\n",
    "abc=['acd','cds','abcd','abb','abbb','abbbb']\n",
    "for value in abc:\n",
    "    index=pattern.search(value)#非贪婪模式\n",
    "    if index:\n",
    "        print(index.group(0))"
   ]
  },
  {
   "cell_type": "code",
   "execution_count": null,
   "metadata": {},
   "outputs": [],
   "source": []
  },
  {
   "cell_type": "code",
   "execution_count": 1,
   "metadata": {},
   "outputs": [],
   "source": [
    "a='abc123abc234abc456acd567'"
   ]
  },
  {
   "cell_type": "code",
   "execution_count": 2,
   "metadata": {},
   "outputs": [
    {
     "name": "stdout",
     "output_type": "stream",
     "text": [
      "['123', '234']\n",
      "123\n",
      "234\n",
      "456\n",
      "567\n"
     ]
    }
   ],
   "source": [
    "import re\n",
    "p_findall=re.compile(r'\\d+')\n",
    "result=p_findall.findall(a,3,15)#全字符串查找找到返回列表 后面数字为其位数\n",
    "print(result)\n",
    "\n",
    "result_1=p_findall.finditer(a)#迭代器相当于分开储存在其中 用for语句打印出来\n",
    "for a in result_1:\n",
    "    print(a.group())"
   ]
  },
  {
   "cell_type": "code",
   "execution_count": null,
   "metadata": {},
   "outputs": [],
   "source": []
  },
  {
   "cell_type": "code",
   "execution_count": 5,
   "metadata": {},
   "outputs": [
    {
     "name": "stdout",
     "output_type": "stream",
     "text": [
      "{'province': '21', 'city': '02'}\n"
     ]
    }
   ],
   "source": [
    "import re\n",
    "shen='210204199903083537'\n",
    "res=re.search('(?P<province>\\d{2})(?P<city>\\d{2})',shen)#在其中储存value province为key\n",
    "print(res.groupdict())#将其变为字典"
   ]
  },
  {
   "cell_type": "code",
   "execution_count": null,
   "metadata": {},
   "outputs": [],
   "source": []
  }
 ],
 "metadata": {
  "kernelspec": {
   "display_name": "Python 3",
   "language": "python",
   "name": "python3"
  },
  "language_info": {
   "codemirror_mode": {
    "name": "ipython",
    "version": 3
   },
   "file_extension": ".py",
   "mimetype": "text/x-python",
   "name": "python",
   "nbconvert_exporter": "python",
   "pygments_lexer": "ipython3",
   "version": "3.7.6"
  }
 },
 "nbformat": 4,
 "nbformat_minor": 4
}
